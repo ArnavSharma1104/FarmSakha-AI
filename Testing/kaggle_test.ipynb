{
 "cells": [
  {
   "cell_type": "code",
   "execution_count": 3,
   "id": "9de632ed",
   "metadata": {},
   "outputs": [
    {
     "name": "stdout",
     "output_type": "stream",
     "text": [
      "Model loaded successfully!\n"
     ]
    }
   ],
   "source": [
    "from tensorflow.keras.models import load_model\n",
    "\n",
    "# Replace with the actual path to your .h5 model\n",
    "model_path = r\"Models/tomato_model.h5\"\n",
    "model = load_model(model_path, compile=False)\n",
    "print(\"Model loaded successfully!\")"
   ]
  },
  {
   "cell_type": "code",
   "execution_count": 18,
   "id": "c7336e59",
   "metadata": {},
   "outputs": [],
   "source": [
    "from tensorflow.keras.preprocessing import image\n",
    "import numpy as np\n",
    "\n",
    "img_path = r\"testimages/N1.jpg\"\n",
    "img_height, img_width = 224, 224  # adjust if your model was trained with a different size\n",
    "\n",
    "img = image.load_img(img_path, target_size=(img_height, img_width))\n",
    "x = image.img_to_array(img) / 255.0  # normalize\n",
    "x = np.expand_dims(x, axis=0)"
   ]
  },
  {
   "cell_type": "code",
   "execution_count": 25,
   "id": "517f8975",
   "metadata": {},
   "outputs": [
    {
     "name": "stdout",
     "output_type": "stream",
     "text": [
      "1/1 [==============================] - 0s 231ms/step\n",
      "Raw predictions: [[4.3336609e-03 2.3816174e-05 5.7599682e-01 4.1964570e-01]]\n",
      "Predicted class index: 2\n"
     ]
    }
   ],
   "source": [
    "from tensorflow.keras.preprocessing import image\n",
    "import numpy as np\n",
    "\n",
    "img_path = r\"testimages/N3.jpg\"\n",
    "img_height, img_width = 256, 256  # match your model's expected input\n",
    "\n",
    "# Load and preprocess\n",
    "img = image.load_img(img_path, target_size=(img_height, img_width))\n",
    "x = image.img_to_array(img) / 255.0\n",
    "x = np.expand_dims(x, axis=0)\n",
    "\n",
    "# Predict\n",
    "preds = model.predict(x)\n",
    "\n",
    "# Get the index of the highest probability\n",
    "class_idx = np.argmax(preds)\n",
    "\n",
    "print(\"Raw predictions:\", preds)\n",
    "print(\"Predicted class index:\", class_idx)"
   ]
  },
  {
   "cell_type": "code",
   "execution_count": 26,
   "id": "77f31b12",
   "metadata": {},
   "outputs": [
    {
     "name": "stdout",
     "output_type": "stream",
     "text": [
      "1/1 [==============================] - 0s 251ms/step\n",
      "Raw predictions: [[4.3864544e-03 2.4084382e-05 5.7647860e-01 4.1911083e-01]]\n",
      "Predicted class index: 2\n"
     ]
    }
   ],
   "source": [
    "from tensorflow.keras.preprocessing import image\n",
    "import numpy as np\n",
    "\n",
    "img_path = r\"testimages/N1.jpg\"\n",
    "img_height, img_width = 256, 256  # match your model's expected input\n",
    "\n",
    "# Load and preprocess\n",
    "img = image.load_img(img_path, target_size=(img_height, img_width))\n",
    "x = image.img_to_array(img) / 255.0\n",
    "x = np.expand_dims(x, axis=0)\n",
    "\n",
    "# Predict\n",
    "preds = model.predict(x)\n",
    "\n",
    "# Get the index of the highest probability\n",
    "class_idx = np.argmax(preds)\n",
    "\n",
    "print(\"Raw predictions:\", preds)\n",
    "print(\"Predicted class index:\", class_idx)"
   ]
  },
  {
   "cell_type": "code",
   "execution_count": null,
   "id": "06b4d894",
   "metadata": {},
   "outputs": [],
   "source": []
  }
 ],
 "metadata": {
  "kernelspec": {
   "display_name": "env39",
   "language": "python",
   "name": "python3"
  },
  "language_info": {
   "codemirror_mode": {
    "name": "ipython",
    "version": 3
   },
   "file_extension": ".py",
   "mimetype": "text/x-python",
   "name": "python",
   "nbconvert_exporter": "python",
   "pygments_lexer": "ipython3",
   "version": "3.9.23"
  }
 },
 "nbformat": 4,
 "nbformat_minor": 5
}

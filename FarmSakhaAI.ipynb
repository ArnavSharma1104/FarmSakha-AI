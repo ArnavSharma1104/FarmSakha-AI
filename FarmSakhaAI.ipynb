{
 "cells": [
  {
   "cell_type": "code",
   "execution_count": 5,
   "id": "dd90a5f7",
   "metadata": {},
   "outputs": [
    {
     "name": "stdout",
     "output_type": "stream",
     "text": [
      "hello\n"
     ]
    }
   ],
   "source": [
    "print(\"hello\")\n"
   ]
  },
  {
   "cell_type": "markdown",
   "id": "ae495b9e",
   "metadata": {},
   "source": [
    "## project started \n",
    "Demo time"
   ]
  },
  {
   "cell_type": "code",
   "execution_count": 6,
   "id": "c0b4bade",
   "metadata": {},
   "outputs": [
    {
     "name": "stderr",
     "output_type": "stream",
     "text": [
      "c:\\SIH\\FarmSakha-AI\\venv\\Lib\\site-packages\\tqdm\\auto.py:21: TqdmWarning: IProgress not found. Please update jupyter and ipywidgets. See https://ipywidgets.readthedocs.io/en/stable/user_install.html\n",
      "  from .autonotebook import tqdm as notebook_tqdm\n"
     ]
    }
   ],
   "source": [
    "import os\n",
    "import requests\n",
    "from dotenv import load_dotenv\n",
    "import json\n",
    "from IPython.display import Markdown, display\n",
    "from openai import OpenAI\n",
    "import gradio as gr"
   ]
  },
  {
   "cell_type": "code",
   "execution_count": 7,
   "id": "4627b4f6",
   "metadata": {},
   "outputs": [
    {
     "name": "stdout",
     "output_type": "stream",
     "text": [
      "API key found and looks good so far!\n"
     ]
    }
   ],
   "source": [
    "load_dotenv(override=True)\n",
    "api_key = os.getenv('OPENAI_API_KEY')\n",
    "\n",
    "# Check the key\n",
    "\n",
    "if not api_key:\n",
    "    print(\"No API key was found - please head over to the troubleshooting notebook in this folder to identify & fix!\")\n",
    "elif not api_key.startswith(\"sk-proj-\"):\n",
    "    print(\"An API key was found, but it doesn't start sk-proj-; please check you're using the right key - see troubleshooting notebook\")\n",
    "elif api_key.strip() != api_key:\n",
    "    print(\"An API key was found, but it looks like it might have space or tab characters at the start or end - please remove them - see troubleshooting notebook\")\n",
    "else:\n",
    "    print(\"API key found and looks good so far!\")\n"
   ]
  },
  {
   "cell_type": "code",
   "execution_count": 8,
   "id": "9342d1f1",
   "metadata": {},
   "outputs": [],
   "source": [
    "model=\"gpt-4o-mini\"\n",
    "openai = OpenAI()\n",
    "TAVILY_API_KEY=os.getenv('TAVILY_API_KEY')"
   ]
  },
  {
   "cell_type": "code",
   "execution_count": null,
   "id": "4e2c86f7",
   "metadata": {},
   "outputs": [],
   "source": [
    "system_prompt = \"\"\"You are FarmSakha AI – a multilingual, AI-powered Smart Crop Advisory Assistant designed to help small and marginal farmers in India. \n",
    "Your role is to provide personalized, real-time agricultural guidance in simple and easy-to-understand language.\n",
    "\n",
    "Core Responsibilities:\n",
    "1. Crop Advisory:\n",
    "   - Suggest suitable crops based on soil type, weather conditions, season, and historical crop data.\n",
    "   - Provide scientific fertilizer and irrigation recommendations with correct NPK ratios.\n",
    "\n",
    "2. Pest and Disease Management:\n",
    "   - Help farmers identify pests/diseases through image descriptions or text inputs.\n",
    "   - Suggest eco-friendly and cost-effective solutions, including biological and chemical control methods.\n",
    "\n",
    "3. Weather & Risk Alerts:\n",
    "   - Provide localized, real-time weather updates and 7-day forecasts using coordinates.\n",
    "   - Warn about risks like drought, floods, or pest outbreaks and suggest preventive measures.\n",
    "   - Help farmers plan irrigation, spraying, and harvesting based on weather conditions.\n",
    "\n",
    "4. Soil Health:\n",
    "   - Give soil test interpretation and fertilizer/lime/organic manure guidance.\n",
    "   - Promote sustainable practices that reduce chemical overuse.\n",
    "\n",
    "5. Market & Economics:\n",
    "   - Share local mandi/market prices of crops using real-time search.\n",
    "   - Provide insights on which crops may yield better income for the season.\n",
    "\n",
    "6. Accessibility:\n",
    "   - Support answers in multiple Indian languages.\n",
    "   - Provide step-by-step, voice-friendly, and simple responses for low-literate farmers.\n",
    "\n",
    "Tools Available:\n",
    "- Real-time Google search for market prices, news, and current information\n",
    "- Weather forecasting using GPS coordinates (latitude/longitude)\n",
    "\n",
    "When farmers ask about weather:\n",
    "- If they provide coordinates/place name, use the weather tool directly\n",
    "- If they provide city/village names, ask for coordinates or use your knowledge to provide general guidance\n",
    "- Always relate weather information to farming activities (when to irrigate, spray, harvest, etc.)\n",
    "- Dont give whole hardcoded detail of weather forecast only important things and sum ups, suggestions, conclusion etc. like a smart friend.\n",
    "- give details if required.\n",
    "\n",
    "Important Guidelines:\n",
    "- Always prioritize sustainable, cost-effective, and farmer-friendly practices.\n",
    "- Avoid overly technical jargon – explain in simple words with examples.\n",
    "- When uncertain, advise consulting local agriculture officers or Krishi Vigyan Kendras.\n",
    "- Ensure trustworthiness, cultural sensitivity, and clarity in communication.\n",
    "\n",
    "Your mission: Empower small and marginal farmers with actionable insights, \n",
    "improve productivity, reduce costs, and promote environmentally friendly farming practices.\n",
    "\n",
    "\n",
    "\"\"\"\n"
   ]
  },
  {
   "cell_type": "code",
   "execution_count": null,
   "id": "8eb3f58f",
   "metadata": {},
   "outputs": [],
   "source": []
  },
  {
   "cell_type": "code",
   "execution_count": 10,
   "id": "b673c1aa",
   "metadata": {},
   "outputs": [],
   "source": [
    "# def chat(message, history):\n",
    "#     messages = [{\"role\": \"system\", \"content\": system_prompt}] + history + [{\"role\": \"user\", \"content\": message}]\n",
    "#     response = openai.chat.completions.create(model=MODEL, messages=messages, tools=tools)\n",
    "\n",
    "#     if response.choices[0].finish_reason==\"tool_calls\":\n",
    "#         message = response.choices[0].message\n",
    "#         response, city = handle_tool_call(message)\n",
    "#         messages.append(message)\n",
    "#         messages.append(response)\n",
    "#         response = openai.chat.completions.create(model=MODEL, messages=messages)\n",
    "    \n",
    "#     return response.choices[0].message.content"
   ]
  },
  {
   "cell_type": "code",
   "execution_count": 11,
   "id": "e2df5022",
   "metadata": {},
   "outputs": [
    {
     "data": {
      "text/plain": [
       "'The price of wheat today in India is ₹2480.00 per quintal. Prices vary by region. Check local markets for exact rates.\\n\\nSources:\\n- Wheat Rate Today In India - Live Market Prices And Trends (https://www.kisandeals.com/mandiprices/WHEAT/ALL/ALL)\\n- Wheat Price Today in India - 08 Sep 2025 - BankBazaar (https://www.bankbazaar.com/commodity-price/wheat-price.html)\\n- Wheat Mandi Market prices today in Punjab as of 07-Sep-2025 (https://www.napanta.com/agri-commodity-prices/punjab/wheat/)\\n- Wheat mandi price - Commodity Online (https://www.commodityonline.com/mandiprices/wheat)\\n- Wheat Futures Historical Prices - Investing.com India (https://in.investing.com/commodities/ncdex-wheat-futures-historical-data)'"
      ]
     },
     "execution_count": 11,
     "metadata": {},
     "output_type": "execute_result"
    }
   ],
   "source": [
    "def get_Google_Search(query: str):\n",
    "        url = \"https://api.tavily.com/search\"\n",
    "        headers = {\"Content-Type\": \"application/json\"}\n",
    "        payload = {\n",
    "            \"api_key\":TAVILY_API_KEY ,\n",
    "            \"query\": query,\n",
    "            \"search_depth\": \"basic\",\n",
    "            \"include_answer\": True\n",
    "        }\n",
    "        response = requests.post(url, headers=headers, json=payload)\n",
    "        data = response.json()\n",
    "\n",
    "        answer = data.get(\"answer\", \"\")\n",
    "        results = \"\\n\".join(\n",
    "            [f\"- {r['title']} ({r['url']})\" for r in data.get(\"results\", [])]\n",
    "        )\n",
    "        return f\"{answer}\\n\\nSources:\\n{results}\"\n",
    "\n",
    "get_Google_Search(\"what is the price of wheat today in india\")"
   ]
  },
  {
   "cell_type": "code",
   "execution_count": 12,
   "id": "1e780b84",
   "metadata": {},
   "outputs": [],
   "source": [
    "# There's a particular dictionary structure that's required to describe our function:\n",
    "\n",
    "Google_Search = {\n",
    "    \"name\": \"get_Google_Search\",\n",
    "    \"description\": \"Search Google for real-time information (news, crops, weather, market prices, etc.)\",\n",
    "    \"parameters\": {\n",
    "        \"type\": \"object\",\n",
    "        \"properties\": {\n",
    "            \"query\": {\n",
    "                \"type\": \"string\",\n",
    "                \"description\": \"The search query string\",\n",
    "            },\n",
    "        },\n",
    "        \"required\": [\"query\"],\n",
    "        \"additionalProperties\": False\n",
    "    }\n",
    "}"
   ]
  },
  {
   "cell_type": "markdown",
   "id": "1d3bd43f",
   "metadata": {},
   "source": [
    "weather forcast\n"
   ]
  },
  {
   "cell_type": "code",
   "execution_count": null,
   "id": "38f17606",
   "metadata": {},
   "outputs": [
    {
     "name": "stdout",
     "output_type": "stream",
     "text": [
      "{'location': {'latitude': 30.9015, 'longitude': 75.8539}, 'daily_forecast': [{'date': '2025-09-08', 'day_name': 'Monday', 'temperature': {'min': 25.6, 'max': 31.0, 'apparent_min': 32.0, 'apparent_max': 38.0}, 'precipitation': {'rain_sum': 0.0, 'total': 13.9, 'probability': 93}, 'wind': {'speed_max': 7.9, 'gusts_max': 25.2, 'direction_deg': 122, 'direction_cardinal': 'ESE'}, 'sun': {'sunrise': '2025-09-08T06:06', 'sunset': '2025-09-08T18:41', 'daylight_hours': 12.58}, 'evapotranspiration': 2.86, 'radiation': 13.64, 'uv_index': 7.05}, {'date': '2025-09-09', 'day_name': 'Tuesday', 'temperature': {'min': 25.4, 'max': 31.1, 'apparent_min': 32.2, 'apparent_max': 37.3}, 'precipitation': {'rain_sum': 0.0, 'total': 0.2, 'probability': 35}, 'wind': {'speed_max': 8.7, 'gusts_max': 22.7, 'direction_deg': 303, 'direction_cardinal': 'WNW'}, 'sun': {'sunrise': '2025-09-09T06:07', 'sunset': '2025-09-09T18:40', 'daylight_hours': 12.55}, 'evapotranspiration': 3.76, 'radiation': 17.79, 'uv_index': 7.0}, {'date': '2025-09-10', 'day_name': 'Wednesday', 'temperature': {'min': 25.5, 'max': 32.2, 'apparent_min': 31.7, 'apparent_max': 37.1}, 'precipitation': {'rain_sum': 0.0, 'total': 0.0, 'probability': 15}, 'wind': {'speed_max': 12.1, 'gusts_max': 29.5, 'direction_deg': 292, 'direction_cardinal': 'WNW'}, 'sun': {'sunrise': '2025-09-10T06:08', 'sunset': '2025-09-10T18:38', 'daylight_hours': 12.52}, 'evapotranspiration': 4.16, 'radiation': 19.02, 'uv_index': 6.95}, {'date': '2025-09-11', 'day_name': 'Thursday', 'temperature': {'min': 25.3, 'max': 32.8, 'apparent_min': 30.7, 'apparent_max': 37.9}, 'precipitation': {'rain_sum': 0.0, 'total': 0.0, 'probability': 0}, 'wind': {'speed_max': 8.9, 'gusts_max': 23.8, 'direction_deg': 286, 'direction_cardinal': 'WNW'}, 'sun': {'sunrise': '2025-09-11T06:08', 'sunset': '2025-09-11T18:37', 'daylight_hours': 12.48}, 'evapotranspiration': 4.3, 'radiation': 19.76, 'uv_index': 7.0}, {'date': '2025-09-12', 'day_name': 'Friday', 'temperature': {'min': 26.0, 'max': 32.3, 'apparent_min': 31.5, 'apparent_max': 37.3}, 'precipitation': {'rain_sum': 0.0, 'total': 0.0, 'probability': 0}, 'wind': {'speed_max': 8.7, 'gusts_max': 21.2, 'direction_deg': 290, 'direction_cardinal': 'WNW'}, 'sun': {'sunrise': '2025-09-12T06:09', 'sunset': '2025-09-12T18:36', 'daylight_hours': 12.45}, 'evapotranspiration': 3.98, 'radiation': 18.44, 'uv_index': 6.4}, {'date': '2025-09-13', 'day_name': 'Saturday', 'temperature': {'min': 26.0, 'max': 30.7, 'apparent_min': 31.1, 'apparent_max': 37.3}, 'precipitation': {'rain_sum': 0.0, 'total': 0.6, 'probability': 23}, 'wind': {'speed_max': 8.3, 'gusts_max': 19.8, 'direction_deg': 124, 'direction_cardinal': 'SE'}, 'sun': {'sunrise': '2025-09-13T06:09', 'sunset': '2025-09-13T18:35', 'daylight_hours': 12.42}, 'evapotranspiration': 3.29, 'radiation': 15.49, 'uv_index': 6.45}, {'date': '2025-09-14', 'day_name': 'Sunday', 'temperature': {'min': 26.0, 'max': 29.7, 'apparent_min': 32.0, 'apparent_max': 36.2}, 'precipitation': {'rain_sum': 0.0, 'total': 9.9, 'probability': 53}, 'wind': {'speed_max': 5.6, 'gusts_max': 14.8, 'direction_deg': 105, 'direction_cardinal': 'ESE'}, 'sun': {'sunrise': '2025-09-14T06:10', 'sunset': '2025-09-14T18:33', 'daylight_hours': 12.39}, 'evapotranspiration': 2.58, 'radiation': 12.4, 'uv_index': 6.35}], 'hourly_forecast': [{'time': '2025-09-08T00:00', 'hour': '00:00', 'temperature': 26.7, 'apparent_temperature': 33.7, 'humidity': 95, 'dewpoint': 25.8, 'precipitation': {'rain': 0.0, 'probability': 5}, 'cloudcover': 100, 'wind': {'speed': 2.2, 'gusts': 4.7, 'direction': 99}, 'pressure': 976.3, 'visibility_km': 24.14, 'soil': {'temp_surface': 26.1, 'temp_6cm': 27.2, 'temp_18cm': 28.3, 'moisture_surface': 0.344, 'moisture_3_9cm': 0.347}, 'evapotranspiration': 0.0, 'radiation': 0.0, 'uv_index': 0.0}, {'time': '2025-09-08T01:00', 'hour': '01:00', 'temperature': 26.5, 'apparent_temperature': 33.4, 'humidity': 96, 'dewpoint': 25.8, 'precipitation': {'rain': 0.0, 'probability': 5}, 'cloudcover': 22, 'wind': {'speed': 2.5, 'gusts': 5.4, 'direction': 82}, 'pressure': 976.1, 'visibility_km': 24.14, 'soil': {'temp_surface': 25.9, 'temp_6cm': 27.0, 'temp_18cm': 28.2, 'moisture_surface': 0.343, 'moisture_3_9cm': 0.346}, 'evapotranspiration': 0.0, 'radiation': 0.0, 'uv_index': 0.0}, {'time': '2025-09-08T02:00', 'hour': '02:00', 'temperature': 26.2, 'apparent_temperature': 32.9, 'humidity': 96, 'dewpoint': 25.5, 'precipitation': {'rain': 0.0, 'probability': 13}, 'cloudcover': 33, 'wind': {'speed': 3.1, 'gusts': 6.5, 'direction': 69}, 'pressure': 975.4, 'visibility_km': 24.14, 'soil': {'temp_surface': 25.8, 'temp_6cm': 26.8, 'temp_18cm': 28.1, 'moisture_surface': 0.343, 'moisture_3_9cm': 0.346}, 'evapotranspiration': 0.0, 'radiation': 0.0, 'uv_index': 0.0}, {'time': '2025-09-08T03:00', 'hour': '03:00', 'temperature': 26.1, 'apparent_temperature': 32.7, 'humidity': 97, 'dewpoint': 25.6, 'precipitation': {'rain': 0.0, 'probability': 40}, 'cloudcover': 97, 'wind': {'speed': 3.3, 'gusts': 6.8, 'direction': 84}, 'pressure': 975.3, 'visibility_km': 24.14, 'soil': {'temp_surface': 25.7, 'temp_6cm': 26.7, 'temp_18cm': 27.9, 'moisture_surface': 0.342, 'moisture_3_9cm': 0.345}, 'evapotranspiration': 0.0, 'radiation': 0.0, 'uv_index': 0.0}, {'time': '2025-09-08T04:00', 'hour': '04:00', 'temperature': 25.9, 'apparent_temperature': 32.5, 'humidity': 97, 'dewpoint': 25.4, 'precipitation': {'rain': 0.0, 'probability': 58}, 'cloudcover': 73, 'wind': {'speed': 2.6, 'gusts': 9.4, 'direction': 124}, 'pressure': 975.2, 'visibility_km': 24.14, 'soil': {'temp_surface': 25.7, 'temp_6cm': 26.6, 'temp_18cm': 27.8, 'moisture_surface': 0.349, 'moisture_3_9cm': 0.346}, 'evapotranspiration': 0.0, 'radiation': 0.0, 'uv_index': 0.0}, {'time': '2025-09-08T05:00', 'hour': '05:00', 'temperature': 25.8, 'apparent_temperature': 32.6, 'humidity': 97, 'dewpoint': 25.3, 'precipitation': {'rain': 0.0, 'probability': 63}, 'cloudcover': 99, 'wind': {'speed': 1.6, 'gusts': 9.7, 'direction': 153}, 'pressure': 975.9, 'visibility_km': 24.14, 'soil': {'temp_surface': 25.6, 'temp_6cm': 26.6, 'temp_18cm': 27.7, 'moisture_surface': 0.356, 'moisture_3_9cm': 0.351}, 'evapotranspiration': 0.0, 'radiation': 0.0, 'uv_index': 0.0}, {'time': '2025-09-08T06:00', 'hour': '06:00', 'temperature': 25.6, 'apparent_temperature': 32.0, 'humidity': 97, 'dewpoint': 25.1, 'precipitation': {'rain': 0.0, 'probability': 55}, 'cloudcover': 80, 'wind': {'speed': 2.9, 'gusts': 11.5, 'direction': 120}, 'pressure': 976.5, 'visibility_km': 24.14, 'soil': {'temp_surface': 25.7, 'temp_6cm': 26.4, 'temp_18cm': 27.6, 'moisture_surface': 0.357, 'moisture_3_9cm': 0.355}, 'evapotranspiration': 0.01, 'radiation': 4.0, 'uv_index': 0.0}, {'time': '2025-09-08T07:00', 'hour': '07:00', 'temperature': 25.9, 'apparent_temperature': 32.1, 'humidity': 95, 'dewpoint': 25.1, 'precipitation': {'rain': 0.0, 'probability': 65}, 'cloudcover': 87, 'wind': {'speed': 4.2, 'gusts': 14.4, 'direction': 110}, 'pressure': 976.9, 'visibility_km': 24.14, 'soil': {'temp_surface': 26.7, 'temp_6cm': 26.6, 'temp_18cm': 27.5, 'moisture_surface': 0.359, 'moisture_3_9cm': 0.358}, 'evapotranspiration': 0.05, 'radiation': 65.0, 'uv_index': 0.55}, {'time': '2025-09-08T08:00', 'hour': '08:00', 'temperature': 26.6, 'apparent_temperature': 32.6, 'humidity': 92, 'dewpoint': 25.2, 'precipitation': {'rain': 0.0, 'probability': 75}, 'cloudcover': 99, 'wind': {'speed': 5.8, 'gusts': 19.1, 'direction': 120}, 'pressure': 977.8, 'visibility_km': 24.14, 'soil': {'temp_surface': 28.1, 'temp_6cm': 27.0, 'temp_18cm': 27.5, 'moisture_surface': 0.36, 'moisture_3_9cm': 0.359}, 'evapotranspiration': 0.13, 'radiation': 185.0, 'uv_index': 1.8}, {'time': '2025-09-08T09:00', 'hour': '09:00', 'temperature': 27.4, 'apparent_temperature': 33.4, 'humidity': 89, 'dewpoint': 25.4, 'precipitation': {'rain': 0.0, 'probability': 85}, 'cloudcover': 100, 'wind': {'speed': 7.0, 'gusts': 20.5, 'direction': 125}, 'pressure': 978.2, 'visibility_km': 22.64, 'soil': {'temp_surface': 29.0, 'temp_6cm': 27.6, 'temp_18cm': 27.5, 'moisture_surface': 0.356, 'moisture_3_9cm': 0.359}, 'evapotranspiration': 0.22, 'radiation': 320.0, 'uv_index': 3.5}, {'time': '2025-09-08T10:00', 'hour': '10:00', 'temperature': 28.3, 'apparent_temperature': 34.2, 'humidity': 85, 'dewpoint': 25.5, 'precipitation': {'rain': 0.0, 'probability': 90}, 'cloudcover': 79, 'wind': {'speed': 7.9, 'gusts': 24.5, 'direction': 129}, 'pressure': 978.5, 'visibility_km': 24.14, 'soil': {'temp_surface': 30.0, 'temp_6cm': 28.4, 'temp_18cm': 27.5, 'moisture_surface': 0.352, 'moisture_3_9cm': 0.357}, 'evapotranspiration': 0.31, 'radiation': 428.0, 'uv_index': 5.1}, {'time': '2025-09-08T11:00', 'hour': '11:00', 'temperature': 30.2, 'apparent_temperature': 37.0, 'humidity': 80, 'dewpoint': 26.4, 'precipitation': {'rain': 0.0, 'probability': 93}, 'cloudcover': 100, 'wind': {'speed': 6.1, 'gusts': 25.2, 'direction': 135}, 'pressure': 977.9, 'visibility_km': 24.14, 'soil': {'temp_surface': 32.0, 'temp_6cm': 30.2, 'temp_18cm': 27.8, 'moisture_surface': 0.353, 'moisture_3_9cm': 0.356}, 'evapotranspiration': 0.38, 'radiation': 507.0, 'uv_index': 6.4}, {'time': '2025-09-08T12:00', 'hour': '12:00', 'temperature': 30.3, 'apparent_temperature': 37.2, 'humidity': 80, 'dewpoint': 26.4, 'precipitation': {'rain': 0.0, 'probability': 93}, 'cloudcover': 100, 'wind': {'speed': 5.6, 'gusts': 20.9, 'direction': 135}, 'pressure': 977.8, 'visibility_km': 12.96, 'soil': {'temp_surface': 32.5, 'temp_6cm': 30.3, 'temp_18cm': 28.0, 'moisture_surface': 0.351, 'moisture_3_9cm': 0.355}, 'evapotranspiration': 0.33, 'radiation': 424.0, 'uv_index': 7.05}, {'time': '2025-09-08T13:00', 'hour': '13:00', 'temperature': 31.0, 'apparent_temperature': 38.0, 'humidity': 77, 'dewpoint': 26.5, 'precipitation': {'rain': 0.0, 'probability': 90}, 'cloudcover': 100, 'wind': {'speed': 5.1, 'gusts': 20.9, 'direction': 141}, 'pressure': 977.5, 'visibility_km': 24.14, 'soil': {'temp_surface': 34.6, 'temp_6cm': 31.0, 'temp_18cm': 28.2, 'moisture_surface': 0.35, 'moisture_3_9cm': 0.354}, 'evapotranspiration': 0.42, 'radiation': 553.0, 'uv_index': 7.0}, {'time': '2025-09-08T14:00', 'hour': '14:00', 'temperature': 30.4, 'apparent_temperature': 37.7, 'humidity': 81, 'dewpoint': 26.8, 'precipitation': {'rain': 0.0, 'probability': 88}, 'cloudcover': 100, 'wind': {'speed': 4.6, 'gusts': 20.5, 'direction': 162}, 'pressure': 976.9, 'visibility_km': 24.14, 'soil': {'temp_surface': 32.8, 'temp_6cm': 31.4, 'temp_18cm': 28.4, 'moisture_surface': 0.358, 'moisture_3_9cm': 0.354}, 'evapotranspiration': 0.36, 'radiation': 474.0, 'uv_index': 6.2}, {'time': '2025-09-08T15:00', 'hour': '15:00', 'temperature': 29.7, 'apparent_temperature': 37.1, 'humidity': 84, 'dewpoint': 26.7, 'precipitation': {'rain': 0.0, 'probability': 80}, 'cloudcover': 100, 'wind': {'speed': 3.3, 'gusts': 19.4, 'direction': 186}, 'pressure': 976.4, 'visibility_km': 24.14, 'soil': {'temp_surface': 30.9, 'temp_6cm': 31.1, 'temp_18cm': 28.6, 'moisture_surface': 0.36, 'moisture_3_9cm': 0.358}, 'evapotranspiration': 0.27, 'radiation': 356.0, 'uv_index': 4.8}, {'time': '2025-09-08T16:00', 'hour': '16:00', 'temperature': 29.5, 'apparent_temperature': 37.2, 'humidity': 84, 'dewpoint': 26.5, 'precipitation': {'rain': 0.0, 'probability': 88}, 'cloudcover': 100, 'wind': {'speed': 0.5, 'gusts': 14.4, 'direction': 135}, 'pressure': 975.9, 'visibility_km': 24.14, 'soil': {'temp_surface': 30.7, 'temp_6cm': 30.7, 'temp_18cm': 28.8, 'moisture_surface': 0.357, 'moisture_3_9cm': 0.359}, 'evapotranspiration': 0.2, 'radiation': 270.0, 'uv_index': 3.1}, {'time': '2025-09-08T17:00', 'hour': '17:00', 'temperature': 29.1, 'apparent_temperature': 36.5, 'humidity': 85, 'dewpoint': 26.4, 'precipitation': {'rain': 0.0, 'probability': 78}, 'cloudcover': 100, 'wind': {'speed': 2.3, 'gusts': 8.3, 'direction': 51}, 'pressure': 975.9, 'visibility_km': 21.74, 'soil': {'temp_surface': 29.3, 'temp_6cm': 30.1, 'temp_18cm': 28.9, 'moisture_surface': 0.357, 'moisture_3_9cm': 0.359}, 'evapotranspiration': 0.12, 'radiation': 162.0, 'uv_index': 1.55}, {'time': '2025-09-08T18:00', 'hour': '18:00', 'temperature': 28.6, 'apparent_temperature': 35.7, 'humidity': 87, 'dewpoint': 26.2, 'precipitation': {'rain': 0.0, 'probability': 68}, 'cloudcover': 100, 'wind': {'speed': 3.1, 'gusts': 7.9, 'direction': 54}, 'pressure': 976.0, 'visibility_km': 24.14, 'soil': {'temp_surface': 27.9, 'temp_6cm': 29.5, 'temp_18cm': 28.9, 'moisture_surface': 0.358, 'moisture_3_9cm': 0.36}, 'evapotranspiration': 0.04, 'radiation': 41.0, 'uv_index': 0.4}, {'time': '2025-09-08T19:00', 'hour': '19:00', 'temperature': 28.0, 'apparent_temperature': 35.3, 'humidity': 90, 'dewpoint': 26.2, 'precipitation': {'rain': 0.0, 'probability': 28}, 'cloudcover': 100, 'wind': {'speed': 1.8, 'gusts': 8.3, 'direction': 101}, 'pressure': 976.9, 'visibility_km': 4.48, 'soil': {'temp_surface': 27.3, 'temp_6cm': 28.8, 'temp_18cm': 28.9, 'moisture_surface': 0.355, 'moisture_3_9cm': 0.359}, 'evapotranspiration': 0.01, 'radiation': 0.0, 'uv_index': 0.0}, {'time': '2025-09-08T20:00', 'hour': '20:00', 'temperature': 27.5, 'apparent_temperature': 34.8, 'humidity': 92, 'dewpoint': 26.1, 'precipitation': {'rain': 0.0, 'probability': 10}, 'cloudcover': 23, 'wind': {'speed': 1.8, 'gusts': 4.3, 'direction': 143}, 'pressure': 977.6, 'visibility_km': 24.14, 'soil': {'temp_surface': 26.8, 'temp_6cm': 28.3, 'temp_18cm': 28.9, 'moisture_surface': 0.353, 'moisture_3_9cm': 0.358}, 'evapotranspiration': 0.0, 'radiation': 0.0, 'uv_index': 0.0}, {'time': '2025-09-08T21:00', 'hour': '21:00', 'temperature': 27.1, 'apparent_temperature': 34.3, 'humidity': 94, 'dewpoint': 26.1, 'precipitation': {'rain': 0.0, 'probability': 0}, 'cloudcover': 27, 'wind': {'speed': 2.3, 'gusts': 4.7, 'direction': 141}, 'pressure': 978.4, 'visibility_km': 24.14, 'soil': {'temp_surface': 26.4, 'temp_6cm': 27.8, 'temp_18cm': 28.8, 'moisture_surface': 0.352, 'moisture_3_9cm': 0.356}, 'evapotranspiration': 0.0, 'radiation': 0.0, 'uv_index': 0.0}, {'time': '2025-09-08T22:00', 'hour': '22:00', 'temperature': 26.7, 'apparent_temperature': 33.9, 'humidity': 96, 'dewpoint': 26.0, 'precipitation': {'rain': 0.0, 'probability': 0}, 'cloudcover': 10, 'wind': {'speed': 2.0, 'gusts': 5.0, 'direction': 135}, 'pressure': 978.5, 'visibility_km': 24.14, 'soil': {'temp_surface': 26.1, 'temp_6cm': 27.5, 'temp_18cm': 28.7, 'moisture_surface': 0.351, 'moisture_3_9cm': 0.355}, 'evapotranspiration': 0.0, 'radiation': 0.0, 'uv_index': 0.0}, {'time': '2025-09-08T23:00', 'hour': '23:00', 'temperature': 26.5, 'apparent_temperature': 33.4, 'humidity': 96, 'dewpoint': 25.8, 'precipitation': {'rain': 0.0, 'probability': 0}, 'cloudcover': 42, 'wind': {'speed': 2.2, 'gusts': 4.3, 'direction': 99}, 'pressure': 978.8, 'visibility_km': 24.14, 'soil': {'temp_surface': 25.8, 'temp_6cm': 27.2, 'temp_18cm': 28.5, 'moisture_surface': 0.35, 'moisture_3_9cm': 0.354}, 'evapotranspiration': 0.0, 'radiation': 0.0, 'uv_index': 0.0}]}\n"
     ]
    }
   ],
   "source": [
    "def get_weather_forecast(latitude: float, longitude: float):\n",
    "    \"\"\"\n",
    "    Fetch detailed weather forecast for a given latitude and longitude\n",
    "    with comprehensive farming-related parameters.\n",
    "    \n",
    "    Returns structured data (dict) instead of fixed advice text, \n",
    "    so that an LLM can analyze and generate context-specific recommendations.\n",
    "    \"\"\"\n",
    "    import requests\n",
    "    from datetime import datetime\n",
    "\n",
    "    try:\n",
    "        weather_url = \"https://api.open-meteo.com/v1/forecast\"\n",
    "        weather_params = {\n",
    "            \"latitude\": latitude,\n",
    "            \"longitude\": longitude,\n",
    "            \"daily\": [\n",
    "                \"temperature_2m_max\", \"temperature_2m_min\",\n",
    "                \"apparent_temperature_max\", \"apparent_temperature_min\",\n",
    "                \"precipitation_sum\", \"rain_sum\", \"snowfall_sum\",\n",
    "                \"windspeed_10m_max\", \"windgusts_10m_max\",\n",
    "                \"winddirection_10m_dominant\",\n",
    "                \"sunrise\", \"sunset\", \"daylight_duration\",\n",
    "                \"et0_fao_evapotranspiration\", \"precipitation_probability_max\",\n",
    "                \"shortwave_radiation_sum\", \"uv_index_max\"\n",
    "            ],\n",
    "            \"hourly\": [\n",
    "                \"temperature_2m\", \"relative_humidity_2m\", \"dewpoint_2m\",\n",
    "                \"apparent_temperature\", \"precipitation\", \"rain\", \"snowfall\",\n",
    "                \"cloudcover\", \"cloudcover_low\", \"cloudcover_mid\", \"cloudcover_high\",\n",
    "                \"windspeed_10m\", \"windgusts_10m\", \"winddirection_10m\",\n",
    "                \"surface_pressure\", \"visibility\", \"soil_moisture_0_1cm\",\n",
    "                \"soil_moisture_1_3cm\", \"soil_moisture_3_9cm\", \"soil_moisture_9_27cm\",\n",
    "                \"soil_temperature_0cm\", \"soil_temperature_6cm\", \"soil_temperature_18cm\",\n",
    "                \"et0_fao_evapotranspiration\", \"shortwave_radiation\", \"uv_index\",\n",
    "                \"precipitation_probability\"\n",
    "            ],\n",
    "            \"forecast_days\": 7,\n",
    "            \"timezone\": \"auto\"\n",
    "        }\n",
    "        \n",
    "        response = requests.get(weather_url, params=weather_params)\n",
    "        weather_data = response.json()\n",
    "\n",
    "        if \"daily\" not in weather_data:\n",
    "            return {\"error\": \"Weather data not available for the given coordinates.\"}\n",
    "\n",
    "        # Prepare structured output\n",
    "        output = {\n",
    "            \"location\": {\"latitude\": latitude, \"longitude\": longitude},\n",
    "            \"daily_forecast\": [],\n",
    "            \"hourly_forecast_today\": [],\n",
    "            \"weekly_summary\": {}\n",
    "        }\n",
    "\n",
    "        # Helper: wind direction conversion\n",
    "        def get_wind_direction(degrees):\n",
    "            if degrees is None:\n",
    "                return \"Variable\"\n",
    "            directions = [\"N\", \"NNE\", \"NE\", \"ENE\", \"E\", \"ESE\", \"SE\", \"SSE\",\n",
    "                          \"S\", \"SSW\", \"SW\", \"WSW\", \"W\", \"WNW\", \"NW\", \"NNW\"]\n",
    "            return directions[int((degrees + 11.25) % 360 / 22.5)]\n",
    "\n",
    "        # Daily forecast (7 days)\n",
    "        daily = weather_data[\"daily\"]\n",
    "        for i in range(min(7, len(daily[\"time\"]))):\n",
    "            date = daily[\"time\"][i]\n",
    "            date_obj = datetime.fromisoformat(date)\n",
    "            day_name = date_obj.strftime('%A')\n",
    "\n",
    "            output[\"daily_forecast\"].append({\n",
    "                \"date\": date,\n",
    "                \"day\": day_name,\n",
    "                \"temperature\": {\n",
    "                    \"min\": daily[\"temperature_2m_min\"][i],\n",
    "                    \"max\": daily[\"temperature_2m_max\"][i],\n",
    "                    \"apparent_min\": daily[\"apparent_temperature_min\"][i],\n",
    "                    \"apparent_max\": daily[\"apparent_temperature_max\"][i],\n",
    "                },\n",
    "                \"precipitation\": {\n",
    "                    \"rain\": daily[\"rain_sum\"][i] or 0,\n",
    "                    \"total\": daily[\"precipitation_sum\"][i] or 0,\n",
    "                    \"probability\": daily[\"precipitation_probability_max\"][i] or 0,\n",
    "                },\n",
    "                \"wind\": {\n",
    "                    \"speed_max\": daily[\"windspeed_10m_max\"][i],\n",
    "                    \"gusts_max\": daily[\"windgusts_10m_max\"][i],\n",
    "                    \"direction_deg\": daily[\"winddirection_10m_dominant\"][i],\n",
    "                    \"direction_cardinal\": get_wind_direction(daily[\"winddirection_10m_dominant\"][i]),\n",
    "                },\n",
    "                \"sun\": {\n",
    "                    \"sunrise\": daily[\"sunrise\"][i],\n",
    "                    \"sunset\": daily[\"sunset\"][i],\n",
    "                    \"daylight_hours\": round(daily[\"daylight_duration\"][i] / 3600, 1) if daily[\"daylight_duration\"][i] else None,\n",
    "                },\n",
    "                \"evapotranspiration\": daily[\"et0_fao_evapotranspiration\"][i] or 0,\n",
    "                \"radiation\": daily[\"shortwave_radiation_sum\"][i] or 0,\n",
    "                \"uv_index_max\": daily[\"uv_index_max\"][i] or 0,\n",
    "            })\n",
    "\n",
    "        # Hourly forecast for today (24 hours)\n",
    "        hourly = weather_data[\"hourly\"]\n",
    "        for i in range(min(24, len(hourly[\"time\"]))):\n",
    "            dt = datetime.fromisoformat(hourly[\"time\"][i].replace('Z', '+00:00'))\n",
    "            time_str = dt.strftime('%H:%M')\n",
    "\n",
    "            output[\"hourly_forecast_today\"].append({\n",
    "                \"time\": time_str,\n",
    "                \"temperature\": hourly[\"temperature_2m\"][i],\n",
    "                \"apparent_temperature\": hourly[\"apparent_temperature\"][i],\n",
    "                \"humidity\": hourly[\"relative_humidity_2m\"][i],\n",
    "                \"dewpoint\": hourly[\"dewpoint_2m\"][i],\n",
    "                \"precipitation\": {\n",
    "                    \"rain\": hourly[\"rain\"][i] or 0,\n",
    "                    \"probability\": hourly[\"precipitation_probability\"][i] or 0,\n",
    "                },\n",
    "                \"cloudcover\": hourly[\"cloudcover\"][i],\n",
    "                \"wind\": {\n",
    "                    \"speed\": hourly[\"windspeed_10m\"][i],\n",
    "                    \"gusts\": hourly[\"windgusts_10m\"][i],\n",
    "                    \"direction_deg\": hourly[\"winddirection_10m\"][i],\n",
    "                },\n",
    "                \"pressure\": hourly[\"surface_pressure\"][i],\n",
    "                \"visibility_km\": (hourly[\"visibility\"][i] / 1000) if hourly[\"visibility\"][i] else None,\n",
    "                \"soil\": {\n",
    "                    \"temperature_surface\": hourly[\"soil_temperature_0cm\"][i],\n",
    "                    \"temperature_6cm\": hourly[\"soil_temperature_6cm\"][i],\n",
    "                    \"moisture_surface\": hourly[\"soil_moisture_0_1cm\"][i] or 0,\n",
    "                    \"moisture_3_9cm\": hourly[\"soil_moisture_3_9cm\"][i] or 0,\n",
    "                },\n",
    "                \"evapotranspiration\": hourly[\"et0_fao_evapotranspiration\"][i] or 0,\n",
    "                \"uv_index\": hourly[\"uv_index\"][i] or 0,\n",
    "            })\n",
    "\n",
    "        # Weekly summary\n",
    "        total_rain = sum([daily[\"rain_sum\"][i] or 0 for i in range(min(7, len(daily[\"time\"])))])\n",
    "        avg_temp_max = sum([daily[\"temperature_2m_max\"][i] for i in range(min(7, len(daily[\"time\"])))]) / min(7, len(daily[\"time\"]))\n",
    "        avg_temp_min = sum([daily[\"temperature_2m_min\"][i] for i in range(min(7, len(daily[\"time\"])))]) / min(7, len(daily[\"time\"]))\n",
    "        total_evaporation = sum([daily[\"et0_fao_evapotranspiration\"][i] or 0 for i in range(min(7, len(daily[\"time\"])))])\n",
    "        water_balance = total_rain - total_evaporation\n",
    "\n",
    "        output[\"weekly_summary\"] = {\n",
    "            \"total_rain\": total_rain,\n",
    "            \"avg_temp_min\": avg_temp_min,\n",
    "            \"avg_temp_max\": avg_temp_max,\n",
    "            \"total_evapotranspiration\": total_evaporation,\n",
    "            \"water_balance\": water_balance\n",
    "        }\n",
    "\n",
    "        return output\n",
    "\n",
    "    except Exception as e:\n",
    "        return {\"error\": str(e)}\n",
    "\n",
    "    \n",
    "# print(get_Weather_forecast( 30.9015,75.8539))"
   ]
  },
  {
   "cell_type": "code",
   "execution_count": 14,
   "id": "9cc1b78f",
   "metadata": {},
   "outputs": [],
   "source": [
    "# There's a particular dictionary structure that's required to describe our function:\n",
    "\n",
    "Weather_forecast = {\n",
    "    \"name\": \"get_Weather_forecast\",\n",
    "    \"description\": \"Fetch weather forecast (hourly for today and daily for next 14 days) for a given latitude and longitude (farmer location)\",\n",
    "    \"parameters\": {\n",
    "        \"type\": \"object\",\n",
    "        \"properties\": {\n",
    "            \"latitude\": {\"type\": \"number\", \"description\": \"Latitude of the location\"},\n",
    "            \"longitude\": {\"type\": \"number\", \"description\": \"Longitude of the location\"}\n",
    "        },\n",
    "        \"required\": [\"latitude\", \"longitude\"],\n",
    "        \"additionalProperties\": False\n",
    "    }\n",
    "}"
   ]
  },
  {
   "cell_type": "code",
   "execution_count": 15,
   "id": "b747c0ea",
   "metadata": {},
   "outputs": [],
   "source": [
    "def get_coordinates(city_name: str):\n",
    "    \"\"\"Get latitude and longitude for a city name using Open-Meteo Geocoding API\"\"\"\n",
    "    try:\n",
    "        geo_url = \"https://geocoding-api.open-meteo.com/v1/search\"\n",
    "        geo_params = {\n",
    "            \"name\": city_name,\n",
    "            \"count\": 1,\n",
    "            \"language\": \"en\",\n",
    "            \"format\": \"json\"\n",
    "        }\n",
    "        \n",
    "        response = requests.get(geo_url, params=geo_params)\n",
    "        geo_data = response.json()\n",
    "        \n",
    "        if \"results\" not in geo_data or len(geo_data[\"results\"]) == 0:\n",
    "            return None, None\n",
    "            \n",
    "        result = geo_data[\"results\"][0]\n",
    "        return result[\"latitude\"], result[\"longitude\"]\n",
    "        \n",
    "    except Exception as e:\n",
    "        print(f\"Geocoding error: {e}\")\n",
    "        return None, None"
   ]
  },
  {
   "cell_type": "code",
   "execution_count": 16,
   "id": "f0007e5a",
   "metadata": {},
   "outputs": [],
   "source": [
    "# And this is included in a list of tools:\n",
    "\n",
    "tools = [{\"type\": \"function\", \"function\": Google_Search},\n",
    "        {\"type\":\"function\",\"function\":Weather_forecast}]"
   ]
  },
  {
   "cell_type": "code",
   "execution_count": 17,
   "id": "1d5947f6",
   "metadata": {},
   "outputs": [],
   "source": [
    "def handle_tool_call(message):\n",
    "    \"\"\"Handle tool calls from OpenAI\"\"\"\n",
    "    tool_call = message.tool_calls[0]\n",
    "    function_name = tool_call.function.name\n",
    "    arguments = json.loads(tool_call.function.arguments)\n",
    "    \n",
    "    if function_name == \"get_Google_Search\":\n",
    "        query = arguments.get('query')\n",
    "        search_result = get_Google_Search(query)\n",
    "        result_content = search_result\n",
    "        \n",
    "    elif function_name == \"get_Weather_forecast\":\n",
    "        latitude = arguments.get('latitude')\n",
    "        longitude = arguments.get('longitude')\n",
    "        weather_result = get_Weather_forecast(latitude, longitude)\n",
    "        result_content = json.dumps(weather_result)\n",
    "        \n",
    "    else:\n",
    "        result_content = f\"Unknown function: {function_name}\"\n",
    "        print(result_content)\n",
    "    \n",
    "    response = {\n",
    "        \"role\": \"tool\",\n",
    "        \"content\": result_content,\n",
    "        \"tool_call_id\": tool_call.id\n",
    "    }\n",
    "    return response"
   ]
  },
  {
   "cell_type": "code",
   "execution_count": 18,
   "id": "ad352a5d",
   "metadata": {},
   "outputs": [],
   "source": [
    "def chat(message, history):\n",
    "    \"\"\"Main chat function for Gradio interface\"\"\"\n",
    "    # Convert Gradio history format to OpenAI format\n",
    "    messages = [{\"role\": \"system\", \"content\": system_prompt}]\n",
    "    \n",
    "    for human_msg, ai_msg in history:\n",
    "        messages.append({\"role\": \"user\", \"content\": human_msg})\n",
    "        if ai_msg:  # Only add if AI response exists\n",
    "            messages.append({\"role\": \"assistant\", \"content\": ai_msg})\n",
    "    \n",
    "    messages.append({\"role\": \"user\", \"content\": message})\n",
    "    \n",
    "    # Make initial API call\n",
    "    response = openai.chat.completions.create(\n",
    "        model=model, \n",
    "        messages=messages, \n",
    "        tools=tools\n",
    "    )\n",
    "\n",
    "    # Handle tool calls if present\n",
    "    if response.choices[0].finish_reason == \"tool_calls\":\n",
    "        assistant_message = response.choices[0].message\n",
    "        tool_response = handle_tool_call(assistant_message)\n",
    "        \n",
    "        # Add tool call and response to messages\n",
    "        messages.append({\n",
    "            \"role\": \"assistant\",\n",
    "            \"tool_calls\": assistant_message.tool_calls\n",
    "        })\n",
    "        messages.append(tool_response)\n",
    "        \n",
    "        # Make final API call\n",
    "        final_response = openai.chat.completions.create(\n",
    "            model=model, \n",
    "            messages=messages\n",
    "        )\n",
    "        return final_response.choices[0].message.content\n",
    "    \n",
    "    return response.choices[0].message.content"
   ]
  },
  {
   "cell_type": "code",
   "execution_count": 19,
   "id": "dd5c9d7f",
   "metadata": {},
   "outputs": [
    {
     "name": "stderr",
     "output_type": "stream",
     "text": [
      "c:\\SIH\\FarmSakha-AI\\venv\\Lib\\site-packages\\gradio\\chat_interface.py:345: UserWarning: The 'tuples' format for chatbot messages is deprecated and will be removed in a future version of Gradio. Please set type='messages' instead, which uses openai-style 'role' and 'content' keys.\n",
      "  self.chatbot = Chatbot(\n"
     ]
    },
    {
     "name": "stdout",
     "output_type": "stream",
     "text": [
      "* Running on local URL:  http://127.0.0.1:7860\n",
      "* To create a public link, set `share=True` in `launch()`.\n"
     ]
    },
    {
     "data": {
      "text/html": [
       "<div><iframe src=\"http://127.0.0.1:7860/\" width=\"100%\" height=\"500\" allow=\"autoplay; camera; microphone; clipboard-read; clipboard-write;\" frameborder=\"0\" allowfullscreen></iframe></div>"
      ],
      "text/plain": [
       "<IPython.core.display.HTML object>"
      ]
     },
     "metadata": {},
     "output_type": "display_data"
    }
   ],
   "source": [
    "# Launch Gradio interface\n",
    "if __name__ == \"__main__\":\n",
    "    interface = gr.ChatInterface(\n",
    "        fn=chat,\n",
    "        title=\"🌾 FarmSakha AI - Smart Crop Advisory Assistant\",\n",
    "        description=\"Ask me anything about farming, crops, weather, market prices, or agricultural practices in India!\",\n",
    "        examples=[\n",
    "            \"What crops are best for clay soil in Punjab?\",\n",
    "            \"Current wheat prices in India\",\n",
    "            \"How to control aphids in cotton crop?\",\n",
    "            \"Weather forecast for farming this week\"\n",
    "        ]\n",
    "    )\n",
    "    interface.launch()"
   ]
  },
  {
   "cell_type": "code",
   "execution_count": null,
   "id": "23083f64",
   "metadata": {},
   "outputs": [],
   "source": []
  },
  {
   "cell_type": "code",
   "execution_count": null,
   "id": "13dc6e01",
   "metadata": {},
   "outputs": [],
   "source": []
  }
 ],
 "metadata": {
  "kernelspec": {
   "display_name": "venv",
   "language": "python",
   "name": "python3"
  },
  "language_info": {
   "codemirror_mode": {
    "name": "ipython",
    "version": 3
   },
   "file_extension": ".py",
   "mimetype": "text/x-python",
   "name": "python",
   "nbconvert_exporter": "python",
   "pygments_lexer": "ipython3",
   "version": "3.13.5"
  }
 },
 "nbformat": 4,
 "nbformat_minor": 5
}

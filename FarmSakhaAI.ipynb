{
 "cells": [
  {
   "cell_type": "code",
   "execution_count": null,
   "id": "dd90a5f7",
   "metadata": {},
   "outputs": [
    {
     "name": "stdout",
     "output_type": "stream",
     "text": [
      "hello\n"
     ]
    }
   ],
   "source": [
    "print(\"hello\")\n"
   ]
  },
  {
   "cell_type": "markdown",
   "id": "ae495b9e",
   "metadata": {},
   "source": [
    "## project started \n",
    "Demo time"
   ]
  },
  {
   "cell_type": "code",
   "execution_count": 50,
   "id": "c0b4bade",
   "metadata": {},
   "outputs": [],
   "source": [
    "import os\n",
    "import requests\n",
    "from dotenv import load_dotenv\n",
    "import json\n",
    "from IPython.display import Markdown, display\n",
    "from openai import OpenAI\n",
    "import gradio as gr"
   ]
  },
  {
   "cell_type": "code",
   "execution_count": 35,
   "id": "4627b4f6",
   "metadata": {},
   "outputs": [
    {
     "name": "stdout",
     "output_type": "stream",
     "text": [
      "API key found and looks good so far!\n"
     ]
    }
   ],
   "source": [
    "load_dotenv(override=True)\n",
    "api_key = os.getenv('OPENAI_API_KEY')\n",
    "\n",
    "# Check the key\n",
    "\n",
    "if not api_key:\n",
    "    print(\"No API key was found - please head over to the troubleshooting notebook in this folder to identify & fix!\")\n",
    "elif not api_key.startswith(\"sk-proj-\"):\n",
    "    print(\"An API key was found, but it doesn't start sk-proj-; please check you're using the right key - see troubleshooting notebook\")\n",
    "elif api_key.strip() != api_key:\n",
    "    print(\"An API key was found, but it looks like it might have space or tab characters at the start or end - please remove them - see troubleshooting notebook\")\n",
    "else:\n",
    "    print(\"API key found and looks good so far!\")\n"
   ]
  },
  {
   "cell_type": "code",
   "execution_count": 36,
   "id": "9342d1f1",
   "metadata": {},
   "outputs": [],
   "source": [
    "model=\"gpt-4o-mini\"\n",
    "openai = OpenAI()"
   ]
  },
  {
   "cell_type": "code",
   "execution_count": 37,
   "id": "4e2c86f7",
   "metadata": {},
   "outputs": [],
   "source": [
    "system_prompt = \"\"\"\n",
    "You are FarmSakha AI – a multilingual, AI-powered Smart Crop Advisory Assistant designed to help small and marginal farmers in India. \n",
    "Your role is to provide personalized, real-time agricultural guidance in simple and easy-to-understand language.\n",
    "\n",
    "Core Responsibilities:\n",
    "1. Crop Advisory:\n",
    "   - Suggest suitable crops based on soil type, weather conditions, season, and historical crop data.\n",
    "   - Provide scientific fertilizer and irrigation recommendations with correct NPK ratios.\n",
    "\n",
    "2. Pest and Disease Management:\n",
    "   - Help farmers identify pests/diseases through image descriptions or text inputs.\n",
    "   - Suggest eco-friendly and cost-effective solutions, including biological and chemical control methods.\n",
    "\n",
    "3. Weather & Risk Alerts:\n",
    "   - Provide localized, real-time weather updates.\n",
    "   - Warn about risks like drought, floods, or pest outbreaks and suggest preventive measures.\n",
    "\n",
    "4. Soil Health:\n",
    "   - Give soil test interpretation and fertilizer/lime/organic manure guidance.\n",
    "   - Promote sustainable practices that reduce chemical overuse.\n",
    "\n",
    "5. Market & Economics:\n",
    "   - Share local mandi/market prices of crops.\n",
    "   - Provide insights on which crops may yield better income for the season.\n",
    "\n",
    "6. Accessibility:\n",
    "   - Support answers in multiple Indian languages.\n",
    "   - Provide step-by-step, voice-friendly, and simple responses for low-literate farmers.\n",
    "\n",
    "7. Feedback:\n",
    "   - Encourage farmers to give feedback or share challenges for continuous improvement.\n",
    "\n",
    "Important Guidelines:\n",
    "- Always prioritize sustainable, cost-effective, and farmer-friendly practices.\n",
    "- Avoid overly technical jargon – explain in simple words with examples.\n",
    "- When uncertain, advise consulting local agriculture officers or Krishi Vigyan Kendras.\n",
    "- Ensure trustworthiness, cultural sensitivity, and clarity in communication.\n",
    "\n",
    "Your mission: Empower small and marginal farmers with actionable insights, \n",
    "improve productivity, reduce costs, and promote environmentally friendly farming practices.\n",
    "\n",
    "\"\"\"\n"
   ]
  },
  {
   "cell_type": "code",
   "execution_count": 38,
   "id": "1d5947f6",
   "metadata": {},
   "outputs": [],
   "source": [
    "def handle_tool_call(message):\n",
    "    \"\"\"Handle tool calls from OpenAI\"\"\"\n",
    "    tool_call = message.tool_calls[0]\n",
    "    arguments = json.loads(tool_call.function.arguments)\n",
    "    query = arguments.get('query')\n",
    "    \n",
    "    # Call the actual search function\n",
    "    search_result = get_Google_Search(query)\n",
    "    \n",
    "    response = {\n",
    "        \"role\": \"tool\",\n",
    "        \"content\": search_result,\n",
    "        \"tool_call_id\": tool_call.id\n",
    "    }\n",
    "    return response"
   ]
  },
  {
   "cell_type": "code",
   "execution_count": null,
   "id": "8eb3f58f",
   "metadata": {},
   "outputs": [],
   "source": []
  },
  {
   "cell_type": "code",
   "execution_count": 39,
   "id": "b673c1aa",
   "metadata": {},
   "outputs": [],
   "source": [
    "def chat(message, history):\n",
    "    messages = [{\"role\": \"system\", \"content\": system_prompt}] + history + [{\"role\": \"user\", \"content\": message}]\n",
    "    response = openai.chat.completions.create(model=MODEL, messages=messages, tools=tools)\n",
    "\n",
    "    if response.choices[0].finish_reason==\"tool_calls\":\n",
    "        message = response.choices[0].message\n",
    "        response, city = handle_tool_call(message)\n",
    "        messages.append(message)\n",
    "        messages.append(response)\n",
    "        response = openai.chat.completions.create(model=MODEL, messages=messages)\n",
    "    \n",
    "    return response.choices[0].message.content"
   ]
  },
  {
   "cell_type": "code",
   "execution_count": 40,
   "id": "e2df5022",
   "metadata": {},
   "outputs": [
    {
     "data": {
      "text/plain": [
       "'As of today, the price of wheat in India is ₹25.82 per kg. The futures price is ₹2,373 per quintal. These prices are current as of 2025-09-05.\\n\\nSources:\\n- Wheat Rate Today In India - Live Market Prices And Trends (https://www.kisandeals.com/mandiprices/WHEAT/ALL/ALL)\\n- Wheat Price Today in India - 05 Sep 2025 (https://www.bankbazaar.com/commodity-price/wheat-price.html)\\n- Global Wheat Price (https://dir.tridge.com/prices/wheat)\\n- Wheat mandi price (https://www.commodityonline.com/mandiprices/wheat)\\n- Wheat Futures Price Today - Investing.com India (https://in.investing.com/commodities/ncdex-wheat-futures)'"
      ]
     },
     "execution_count": 40,
     "metadata": {},
     "output_type": "execute_result"
    }
   ],
   "source": [
    "def get_Google_Search(query: str):\n",
    "        url = \"https://api.tavily.com/search\"\n",
    "        headers = {\"Content-Type\": \"application/json\"}\n",
    "        payload = {\n",
    "            \"api_key\":os.getenv('TAVILY_API_KEY') ,\n",
    "            \"query\": query,\n",
    "            \"search_depth\": \"basic\",\n",
    "            \"include_answer\": True\n",
    "        }\n",
    "        response = requests.post(url, headers=headers, json=payload)\n",
    "        data = response.json()\n",
    "\n",
    "        answer = data.get(\"answer\", \"\")\n",
    "        results = \"\\n\".join(\n",
    "            [f\"- {r['title']} ({r['url']})\" for r in data.get(\"results\", [])]\n",
    "        )\n",
    "        return f\"{answer}\\n\\nSources:\\n{results}\"\n",
    "\n",
    "get_Google_Search(\"what is the price of wheat today in india\")"
   ]
  },
  {
   "cell_type": "code",
   "execution_count": 53,
   "id": "8ce0f468",
   "metadata": {},
   "outputs": [],
   "source": [
    "tools = [{\"type\": \"function\", \"function\": Google_Search}]"
   ]
  },
  {
   "cell_type": "code",
   "execution_count": 54,
   "id": "1e780b84",
   "metadata": {},
   "outputs": [],
   "source": [
    "# There's a particular dictionary structure that's required to describe our function:\n",
    "\n",
    "Google_Search = {\n",
    "    \"name\": \"get_Google_Search\",\n",
    "    \"description\": \"Search Google for real-time information (news, crops, weather, market prices, etc.)\",\n",
    "    \"parameters\": {\n",
    "        \"type\": \"object\",\n",
    "        \"properties\": {\n",
    "            \"query\": {\n",
    "                \"type\": \"string\",\n",
    "                \"description\": \"The search query string\",\n",
    "            },\n",
    "        },\n",
    "        \"required\": [\"query\"],\n",
    "        \"additionalProperties\": False\n",
    "    }\n",
    "}"
   ]
  },
  {
   "cell_type": "code",
   "execution_count": 55,
   "id": "f0007e5a",
   "metadata": {},
   "outputs": [],
   "source": [
    "# And this is included in a list of tools:\n",
    "\n",
    "tools = [{\"type\": \"function\", \"function\": Google_Search}]"
   ]
  },
  {
   "cell_type": "code",
   "execution_count": 56,
   "id": "ad352a5d",
   "metadata": {},
   "outputs": [],
   "source": [
    "def chat(message, history):\n",
    "    \"\"\"Main chat function for Gradio interface\"\"\"\n",
    "    # Convert Gradio history format to OpenAI format\n",
    "    messages = [{\"role\": \"system\", \"content\": system_prompt}]\n",
    "    \n",
    "    for human_msg, ai_msg in history:\n",
    "        messages.append({\"role\": \"user\", \"content\": human_msg})\n",
    "        if ai_msg:  # Only add if AI response exists\n",
    "            messages.append({\"role\": \"assistant\", \"content\": ai_msg})\n",
    "    \n",
    "    messages.append({\"role\": \"user\", \"content\": message})\n",
    "    \n",
    "    # Make initial API call\n",
    "    response = openai.chat.completions.create(\n",
    "        model=model, \n",
    "        messages=messages, \n",
    "        tools=tools\n",
    "    )\n",
    "\n",
    "    # Handle tool calls if present\n",
    "    if response.choices[0].finish_reason == \"tool_calls\":\n",
    "        assistant_message = response.choices[0].message\n",
    "        tool_response = handle_tool_call(assistant_message)\n",
    "        \n",
    "        # Add tool call and response to messages\n",
    "        messages.append({\n",
    "            \"role\": \"assistant\",\n",
    "            \"content\": assistant_message.content,\n",
    "            \"tool_calls\": assistant_message.tool_calls\n",
    "        })\n",
    "        messages.append(tool_response)\n",
    "        \n",
    "        # Make final API call\n",
    "        final_response = openai.chat.completions.create(\n",
    "            model=model, \n",
    "            messages=messages\n",
    "        )\n",
    "        return final_response.choices[0].message.content\n",
    "    \n",
    "    return response.choices[0].message.content"
   ]
  },
  {
   "cell_type": "code",
   "execution_count": 57,
   "id": "11f194f7",
   "metadata": {},
   "outputs": [
    {
     "name": "stderr",
     "output_type": "stream",
     "text": [
      "c:\\SIH\\FarmSakha-AI\\venv\\Lib\\site-packages\\gradio\\chat_interface.py:345: UserWarning: The 'tuples' format for chatbot messages is deprecated and will be removed in a future version of Gradio. Please set type='messages' instead, which uses openai-style 'role' and 'content' keys.\n",
      "  self.chatbot = Chatbot(\n"
     ]
    },
    {
     "name": "stdout",
     "output_type": "stream",
     "text": [
      "* Running on local URL:  http://127.0.0.1:7866\n",
      "* To create a public link, set `share=True` in `launch()`.\n"
     ]
    },
    {
     "data": {
      "text/html": [
       "<div><iframe src=\"http://127.0.0.1:7866/\" width=\"100%\" height=\"500\" allow=\"autoplay; camera; microphone; clipboard-read; clipboard-write;\" frameborder=\"0\" allowfullscreen></iframe></div>"
      ],
      "text/plain": [
       "<IPython.core.display.HTML object>"
      ]
     },
     "metadata": {},
     "output_type": "display_data"
    }
   ],
   "source": [
    "# Launch Gradio interface\n",
    "if __name__ == \"__main__\":\n",
    "    interface = gr.ChatInterface(\n",
    "        fn=chat,\n",
    "        title=\"🌾 FarmSakha AI - Smart Crop Advisory Assistant\",\n",
    "        description=\"Ask me anything about farming, crops, weather, market prices, or agricultural practices in India!\",\n",
    "        examples=[\n",
    "            \"What crops are best for clay soil in Punjab?\",\n",
    "            \"Current wheat prices in India\",\n",
    "            \"How to control aphids in cotton crop?\",\n",
    "            \"Weather forecast for farming this week\"\n",
    "        ]\n",
    "    )\n",
    "    interface.launch()"
   ]
  },
  {
   "cell_type": "code",
   "execution_count": null,
   "id": "e9387d76",
   "metadata": {},
   "outputs": [],
   "source": []
  }
 ],
 "metadata": {
  "kernelspec": {
   "display_name": "venv",
   "language": "python",
   "name": "python3"
  },
  "language_info": {
   "codemirror_mode": {
    "name": "ipython",
    "version": 3
   },
   "file_extension": ".py",
   "mimetype": "text/x-python",
   "name": "python",
   "nbconvert_exporter": "python",
   "pygments_lexer": "ipython3",
   "version": "3.13.5"
  }
 },
 "nbformat": 4,
 "nbformat_minor": 5
}
